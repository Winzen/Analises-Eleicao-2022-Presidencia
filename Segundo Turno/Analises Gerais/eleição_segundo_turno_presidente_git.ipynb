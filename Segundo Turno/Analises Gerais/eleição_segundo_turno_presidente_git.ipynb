{
  "nbformat": 4,
  "nbformat_minor": 0,
  "metadata": {
    "colab": {
      "provenance": []
    },
    "kernelspec": {
      "name": "python3",
      "display_name": "Python 3"
    },
    "language_info": {
      "name": "python"
    }
  },
  "cells": [
    {
      "cell_type": "code",
      "execution_count": 1,
      "metadata": {
        "id": "z_D_shL0LjYk"
      },
      "outputs": [],
      "source": [
        "import pandas as pd\n",
        "import sqlite3\n",
        "import numpy as np\n",
        "import matplotlib.dates as mdates\n",
        "import matplotlib.pyplot as plt\n"
      ]
    },
    {
      "cell_type": "code",
      "source": [
        "url='https://drive.google.com/uc?id=1V61Pj62FSsmofMpomI9N0d2scqjO4P90'\n",
        "\n",
        "df = pd.read_csv(url, encoding=\"ISO-8859-1\", sep=\";\", date_parser=[\"dt_carga\"])\n",
        "df.head()"
      ],
      "metadata": {
        "id": "u_6zr0tJMuuw",
        "colab": {
          "base_uri": "https://localhost:8080/",
          "height": 392
        },
        "outputId": "eeca8baf-23ff-483f-c65c-7117712afa43"
      },
      "execution_count": 2,
      "outputs": [
        {
          "output_type": "execute_result",
          "data": {
            "text/plain": [
              "     ds_cargo  cd_municipio   nm_municipio nm_regiao  nr_turno sg_uf  nr_zona  \\\n",
              "0  Presidente            19  GUAJARÁ-MIRIM     NORTE         2    RO        1   \n",
              "1  Presidente            19  GUAJARÁ-MIRIM     NORTE         2    RO        1   \n",
              "2  Presidente            35    PORTO VELHO     NORTE         2    RO        2   \n",
              "3  Presidente            35    PORTO VELHO     NORTE         2    RO        2   \n",
              "4  Presidente            35    PORTO VELHO     NORTE         2    RO        6   \n",
              "\n",
              "                nm_candidato  nr_candidato sg_partido ds_sit_totalizacao  \\\n",
              "0     JAIR MESSIAS BOLSONARO            22         PL         Não Eleito   \n",
              "1  LUIZ INÁCIO LULA DA SILVA            13         PT             Eleito   \n",
              "2     JAIR MESSIAS BOLSONARO            22         PL         Não Eleito   \n",
              "3  LUIZ INÁCIO LULA DA SILVA            13         PT             Eleito   \n",
              "4     JAIR MESSIAS BOLSONARO            22         PL         Não Eleito   \n",
              "\n",
              "   qt_votos_nominais  qt_votos_validos             dt_carga  \n",
              "0              13001             19839  2022-11-04 15:55:26  \n",
              "1               6838             19839  2022-11-04 15:55:26  \n",
              "2              52020             79968  2022-11-04 15:55:26  \n",
              "3              27948             79968  2022-11-04 15:55:26  \n",
              "4              43333             64723  2022-11-04 15:55:26  "
            ],
            "text/html": [
              "\n",
              "  <div id=\"df-afd3ac21-81c5-4dd0-887b-0208242d2693\">\n",
              "    <div class=\"colab-df-container\">\n",
              "      <div>\n",
              "<style scoped>\n",
              "    .dataframe tbody tr th:only-of-type {\n",
              "        vertical-align: middle;\n",
              "    }\n",
              "\n",
              "    .dataframe tbody tr th {\n",
              "        vertical-align: top;\n",
              "    }\n",
              "\n",
              "    .dataframe thead th {\n",
              "        text-align: right;\n",
              "    }\n",
              "</style>\n",
              "<table border=\"1\" class=\"dataframe\">\n",
              "  <thead>\n",
              "    <tr style=\"text-align: right;\">\n",
              "      <th></th>\n",
              "      <th>ds_cargo</th>\n",
              "      <th>cd_municipio</th>\n",
              "      <th>nm_municipio</th>\n",
              "      <th>nm_regiao</th>\n",
              "      <th>nr_turno</th>\n",
              "      <th>sg_uf</th>\n",
              "      <th>nr_zona</th>\n",
              "      <th>nm_candidato</th>\n",
              "      <th>nr_candidato</th>\n",
              "      <th>sg_partido</th>\n",
              "      <th>ds_sit_totalizacao</th>\n",
              "      <th>qt_votos_nominais</th>\n",
              "      <th>qt_votos_validos</th>\n",
              "      <th>dt_carga</th>\n",
              "    </tr>\n",
              "  </thead>\n",
              "  <tbody>\n",
              "    <tr>\n",
              "      <th>0</th>\n",
              "      <td>Presidente</td>\n",
              "      <td>19</td>\n",
              "      <td>GUAJARÁ-MIRIM</td>\n",
              "      <td>NORTE</td>\n",
              "      <td>2</td>\n",
              "      <td>RO</td>\n",
              "      <td>1</td>\n",
              "      <td>JAIR MESSIAS BOLSONARO</td>\n",
              "      <td>22</td>\n",
              "      <td>PL</td>\n",
              "      <td>Não Eleito</td>\n",
              "      <td>13001</td>\n",
              "      <td>19839</td>\n",
              "      <td>2022-11-04 15:55:26</td>\n",
              "    </tr>\n",
              "    <tr>\n",
              "      <th>1</th>\n",
              "      <td>Presidente</td>\n",
              "      <td>19</td>\n",
              "      <td>GUAJARÁ-MIRIM</td>\n",
              "      <td>NORTE</td>\n",
              "      <td>2</td>\n",
              "      <td>RO</td>\n",
              "      <td>1</td>\n",
              "      <td>LUIZ INÁCIO LULA DA SILVA</td>\n",
              "      <td>13</td>\n",
              "      <td>PT</td>\n",
              "      <td>Eleito</td>\n",
              "      <td>6838</td>\n",
              "      <td>19839</td>\n",
              "      <td>2022-11-04 15:55:26</td>\n",
              "    </tr>\n",
              "    <tr>\n",
              "      <th>2</th>\n",
              "      <td>Presidente</td>\n",
              "      <td>35</td>\n",
              "      <td>PORTO VELHO</td>\n",
              "      <td>NORTE</td>\n",
              "      <td>2</td>\n",
              "      <td>RO</td>\n",
              "      <td>2</td>\n",
              "      <td>JAIR MESSIAS BOLSONARO</td>\n",
              "      <td>22</td>\n",
              "      <td>PL</td>\n",
              "      <td>Não Eleito</td>\n",
              "      <td>52020</td>\n",
              "      <td>79968</td>\n",
              "      <td>2022-11-04 15:55:26</td>\n",
              "    </tr>\n",
              "    <tr>\n",
              "      <th>3</th>\n",
              "      <td>Presidente</td>\n",
              "      <td>35</td>\n",
              "      <td>PORTO VELHO</td>\n",
              "      <td>NORTE</td>\n",
              "      <td>2</td>\n",
              "      <td>RO</td>\n",
              "      <td>2</td>\n",
              "      <td>LUIZ INÁCIO LULA DA SILVA</td>\n",
              "      <td>13</td>\n",
              "      <td>PT</td>\n",
              "      <td>Eleito</td>\n",
              "      <td>27948</td>\n",
              "      <td>79968</td>\n",
              "      <td>2022-11-04 15:55:26</td>\n",
              "    </tr>\n",
              "    <tr>\n",
              "      <th>4</th>\n",
              "      <td>Presidente</td>\n",
              "      <td>35</td>\n",
              "      <td>PORTO VELHO</td>\n",
              "      <td>NORTE</td>\n",
              "      <td>2</td>\n",
              "      <td>RO</td>\n",
              "      <td>6</td>\n",
              "      <td>JAIR MESSIAS BOLSONARO</td>\n",
              "      <td>22</td>\n",
              "      <td>PL</td>\n",
              "      <td>Não Eleito</td>\n",
              "      <td>43333</td>\n",
              "      <td>64723</td>\n",
              "      <td>2022-11-04 15:55:26</td>\n",
              "    </tr>\n",
              "  </tbody>\n",
              "</table>\n",
              "</div>\n",
              "      <button class=\"colab-df-convert\" onclick=\"convertToInteractive('df-afd3ac21-81c5-4dd0-887b-0208242d2693')\"\n",
              "              title=\"Convert this dataframe to an interactive table.\"\n",
              "              style=\"display:none;\">\n",
              "        \n",
              "  <svg xmlns=\"http://www.w3.org/2000/svg\" height=\"24px\"viewBox=\"0 0 24 24\"\n",
              "       width=\"24px\">\n",
              "    <path d=\"M0 0h24v24H0V0z\" fill=\"none\"/>\n",
              "    <path d=\"M18.56 5.44l.94 2.06.94-2.06 2.06-.94-2.06-.94-.94-2.06-.94 2.06-2.06.94zm-11 1L8.5 8.5l.94-2.06 2.06-.94-2.06-.94L8.5 2.5l-.94 2.06-2.06.94zm10 10l.94 2.06.94-2.06 2.06-.94-2.06-.94-.94-2.06-.94 2.06-2.06.94z\"/><path d=\"M17.41 7.96l-1.37-1.37c-.4-.4-.92-.59-1.43-.59-.52 0-1.04.2-1.43.59L10.3 9.45l-7.72 7.72c-.78.78-.78 2.05 0 2.83L4 21.41c.39.39.9.59 1.41.59.51 0 1.02-.2 1.41-.59l7.78-7.78 2.81-2.81c.8-.78.8-2.07 0-2.86zM5.41 20L4 18.59l7.72-7.72 1.47 1.35L5.41 20z\"/>\n",
              "  </svg>\n",
              "      </button>\n",
              "      \n",
              "  <style>\n",
              "    .colab-df-container {\n",
              "      display:flex;\n",
              "      flex-wrap:wrap;\n",
              "      gap: 12px;\n",
              "    }\n",
              "\n",
              "    .colab-df-convert {\n",
              "      background-color: #E8F0FE;\n",
              "      border: none;\n",
              "      border-radius: 50%;\n",
              "      cursor: pointer;\n",
              "      display: none;\n",
              "      fill: #1967D2;\n",
              "      height: 32px;\n",
              "      padding: 0 0 0 0;\n",
              "      width: 32px;\n",
              "    }\n",
              "\n",
              "    .colab-df-convert:hover {\n",
              "      background-color: #E2EBFA;\n",
              "      box-shadow: 0px 1px 2px rgba(60, 64, 67, 0.3), 0px 1px 3px 1px rgba(60, 64, 67, 0.15);\n",
              "      fill: #174EA6;\n",
              "    }\n",
              "\n",
              "    [theme=dark] .colab-df-convert {\n",
              "      background-color: #3B4455;\n",
              "      fill: #D2E3FC;\n",
              "    }\n",
              "\n",
              "    [theme=dark] .colab-df-convert:hover {\n",
              "      background-color: #434B5C;\n",
              "      box-shadow: 0px 1px 3px 1px rgba(0, 0, 0, 0.15);\n",
              "      filter: drop-shadow(0px 1px 2px rgba(0, 0, 0, 0.3));\n",
              "      fill: #FFFFFF;\n",
              "    }\n",
              "  </style>\n",
              "\n",
              "      <script>\n",
              "        const buttonEl =\n",
              "          document.querySelector('#df-afd3ac21-81c5-4dd0-887b-0208242d2693 button.colab-df-convert');\n",
              "        buttonEl.style.display =\n",
              "          google.colab.kernel.accessAllowed ? 'block' : 'none';\n",
              "\n",
              "        async function convertToInteractive(key) {\n",
              "          const element = document.querySelector('#df-afd3ac21-81c5-4dd0-887b-0208242d2693');\n",
              "          const dataTable =\n",
              "            await google.colab.kernel.invokeFunction('convertToInteractive',\n",
              "                                                     [key], {});\n",
              "          if (!dataTable) return;\n",
              "\n",
              "          const docLinkHtml = 'Like what you see? Visit the ' +\n",
              "            '<a target=\"_blank\" href=https://colab.research.google.com/notebooks/data_table.ipynb>data table notebook</a>'\n",
              "            + ' to learn more about interactive tables.';\n",
              "          element.innerHTML = '';\n",
              "          dataTable['output_type'] = 'display_data';\n",
              "          await google.colab.output.renderOutput(dataTable, element);\n",
              "          const docLink = document.createElement('div');\n",
              "          docLink.innerHTML = docLinkHtml;\n",
              "          element.appendChild(docLink);\n",
              "        }\n",
              "      </script>\n",
              "    </div>\n",
              "  </div>\n",
              "  "
            ]
          },
          "metadata": {},
          "execution_count": 2
        }
      ]
    },
    {
      "cell_type": "code",
      "source": [
        "len(df[\"sg_uf\"])"
      ],
      "metadata": {
        "colab": {
          "base_uri": "https://localhost:8080/"
        },
        "id": "KuNiY2n71jdX",
        "outputId": "7ca53a34-fe73-4910-e0f1-cd0ac1aba90d"
      },
      "execution_count": 109,
      "outputs": [
        {
          "output_type": "execute_result",
          "data": {
            "text/plain": [
              "12566"
            ]
          },
          "metadata": {},
          "execution_count": 109
        }
      ]
    },
    {
      "cell_type": "markdown",
      "source": [
        "# Relevancia de cada estado na eleição\n"
      ],
      "metadata": {
        "id": "-u6RrMD4HmMG"
      }
    },
    {
      "cell_type": "code",
      "source": [
        "total_votos = df[\"qt_votos_nominais\"].sum()\n",
        "\n",
        "votos_estados = ((df.groupby(\"sg_uf\"))[\"qt_votos_nominais\"].sum()).sort_values(ascending=False)\n",
        "votos_estados = votos_estados.to_frame()\n",
        "votos_estados.columns = [\"Votos\"]\n",
        "votos_estados[\"Relevancia\"] = round((votos_estados/total_votos)*100, 2)\n",
        "votos_estados"
      ],
      "metadata": {
        "id": "gneKim0EHw1s"
      },
      "execution_count": null,
      "outputs": []
    },
    {
      "cell_type": "code",
      "source": [
        "votos_estados[4::]"
      ],
      "metadata": {
        "id": "GQM2LPvBWPZa"
      },
      "execution_count": null,
      "outputs": []
    },
    {
      "cell_type": "code",
      "source": [
        "top3_relevancia = votos_estados[:4]\n",
        "top3_relevancia.loc[\"Outros\"] = votos_estados[4::].sum()\n",
        "top3_relevancia"
      ],
      "metadata": {
        "colab": {
          "base_uri": "https://localhost:8080/",
          "height": 327
        },
        "id": "7U769RagTmuN",
        "outputId": "fb5ed83c-1479-4fb9-d36f-8d194cef320f"
      },
      "execution_count": 101,
      "outputs": [
        {
          "output_type": "stream",
          "name": "stderr",
          "text": [
            "<ipython-input-101-3b8dcf2da1a2>:2: SettingWithCopyWarning: \n",
            "A value is trying to be set on a copy of a slice from a DataFrame\n",
            "\n",
            "See the caveats in the documentation: https://pandas.pydata.org/pandas-docs/stable/user_guide/indexing.html#returning-a-view-versus-a-copy\n",
            "  top3_relevancia.loc[\"Outros\"] = votos_estados[4::].sum()\n"
          ]
        },
        {
          "output_type": "execute_result",
          "data": {
            "text/plain": [
              "             Votos  Relevancia\n",
              "sg_uf                         \n",
              "SP      25736469.0       21.71\n",
              "MG      12332270.0       10.40\n",
              "RJ       9560111.0        8.06\n",
              "BA       8454843.0        7.13\n",
              "Outros  62468660.0       52.69"
            ],
            "text/html": [
              "\n",
              "  <div id=\"df-9b1124ba-a896-4019-be10-008ba2895d23\">\n",
              "    <div class=\"colab-df-container\">\n",
              "      <div>\n",
              "<style scoped>\n",
              "    .dataframe tbody tr th:only-of-type {\n",
              "        vertical-align: middle;\n",
              "    }\n",
              "\n",
              "    .dataframe tbody tr th {\n",
              "        vertical-align: top;\n",
              "    }\n",
              "\n",
              "    .dataframe thead th {\n",
              "        text-align: right;\n",
              "    }\n",
              "</style>\n",
              "<table border=\"1\" class=\"dataframe\">\n",
              "  <thead>\n",
              "    <tr style=\"text-align: right;\">\n",
              "      <th></th>\n",
              "      <th>Votos</th>\n",
              "      <th>Relevancia</th>\n",
              "    </tr>\n",
              "    <tr>\n",
              "      <th>sg_uf</th>\n",
              "      <th></th>\n",
              "      <th></th>\n",
              "    </tr>\n",
              "  </thead>\n",
              "  <tbody>\n",
              "    <tr>\n",
              "      <th>SP</th>\n",
              "      <td>25736469.0</td>\n",
              "      <td>21.71</td>\n",
              "    </tr>\n",
              "    <tr>\n",
              "      <th>MG</th>\n",
              "      <td>12332270.0</td>\n",
              "      <td>10.40</td>\n",
              "    </tr>\n",
              "    <tr>\n",
              "      <th>RJ</th>\n",
              "      <td>9560111.0</td>\n",
              "      <td>8.06</td>\n",
              "    </tr>\n",
              "    <tr>\n",
              "      <th>BA</th>\n",
              "      <td>8454843.0</td>\n",
              "      <td>7.13</td>\n",
              "    </tr>\n",
              "    <tr>\n",
              "      <th>Outros</th>\n",
              "      <td>62468660.0</td>\n",
              "      <td>52.69</td>\n",
              "    </tr>\n",
              "  </tbody>\n",
              "</table>\n",
              "</div>\n",
              "      <button class=\"colab-df-convert\" onclick=\"convertToInteractive('df-9b1124ba-a896-4019-be10-008ba2895d23')\"\n",
              "              title=\"Convert this dataframe to an interactive table.\"\n",
              "              style=\"display:none;\">\n",
              "        \n",
              "  <svg xmlns=\"http://www.w3.org/2000/svg\" height=\"24px\"viewBox=\"0 0 24 24\"\n",
              "       width=\"24px\">\n",
              "    <path d=\"M0 0h24v24H0V0z\" fill=\"none\"/>\n",
              "    <path d=\"M18.56 5.44l.94 2.06.94-2.06 2.06-.94-2.06-.94-.94-2.06-.94 2.06-2.06.94zm-11 1L8.5 8.5l.94-2.06 2.06-.94-2.06-.94L8.5 2.5l-.94 2.06-2.06.94zm10 10l.94 2.06.94-2.06 2.06-.94-2.06-.94-.94-2.06-.94 2.06-2.06.94z\"/><path d=\"M17.41 7.96l-1.37-1.37c-.4-.4-.92-.59-1.43-.59-.52 0-1.04.2-1.43.59L10.3 9.45l-7.72 7.72c-.78.78-.78 2.05 0 2.83L4 21.41c.39.39.9.59 1.41.59.51 0 1.02-.2 1.41-.59l7.78-7.78 2.81-2.81c.8-.78.8-2.07 0-2.86zM5.41 20L4 18.59l7.72-7.72 1.47 1.35L5.41 20z\"/>\n",
              "  </svg>\n",
              "      </button>\n",
              "      \n",
              "  <style>\n",
              "    .colab-df-container {\n",
              "      display:flex;\n",
              "      flex-wrap:wrap;\n",
              "      gap: 12px;\n",
              "    }\n",
              "\n",
              "    .colab-df-convert {\n",
              "      background-color: #E8F0FE;\n",
              "      border: none;\n",
              "      border-radius: 50%;\n",
              "      cursor: pointer;\n",
              "      display: none;\n",
              "      fill: #1967D2;\n",
              "      height: 32px;\n",
              "      padding: 0 0 0 0;\n",
              "      width: 32px;\n",
              "    }\n",
              "\n",
              "    .colab-df-convert:hover {\n",
              "      background-color: #E2EBFA;\n",
              "      box-shadow: 0px 1px 2px rgba(60, 64, 67, 0.3), 0px 1px 3px 1px rgba(60, 64, 67, 0.15);\n",
              "      fill: #174EA6;\n",
              "    }\n",
              "\n",
              "    [theme=dark] .colab-df-convert {\n",
              "      background-color: #3B4455;\n",
              "      fill: #D2E3FC;\n",
              "    }\n",
              "\n",
              "    [theme=dark] .colab-df-convert:hover {\n",
              "      background-color: #434B5C;\n",
              "      box-shadow: 0px 1px 3px 1px rgba(0, 0, 0, 0.15);\n",
              "      filter: drop-shadow(0px 1px 2px rgba(0, 0, 0, 0.3));\n",
              "      fill: #FFFFFF;\n",
              "    }\n",
              "  </style>\n",
              "\n",
              "      <script>\n",
              "        const buttonEl =\n",
              "          document.querySelector('#df-9b1124ba-a896-4019-be10-008ba2895d23 button.colab-df-convert');\n",
              "        buttonEl.style.display =\n",
              "          google.colab.kernel.accessAllowed ? 'block' : 'none';\n",
              "\n",
              "        async function convertToInteractive(key) {\n",
              "          const element = document.querySelector('#df-9b1124ba-a896-4019-be10-008ba2895d23');\n",
              "          const dataTable =\n",
              "            await google.colab.kernel.invokeFunction('convertToInteractive',\n",
              "                                                     [key], {});\n",
              "          if (!dataTable) return;\n",
              "\n",
              "          const docLinkHtml = 'Like what you see? Visit the ' +\n",
              "            '<a target=\"_blank\" href=https://colab.research.google.com/notebooks/data_table.ipynb>data table notebook</a>'\n",
              "            + ' to learn more about interactive tables.';\n",
              "          element.innerHTML = '';\n",
              "          dataTable['output_type'] = 'display_data';\n",
              "          await google.colab.output.renderOutput(dataTable, element);\n",
              "          const docLink = document.createElement('div');\n",
              "          docLink.innerHTML = docLinkHtml;\n",
              "          element.appendChild(docLink);\n",
              "        }\n",
              "      </script>\n",
              "    </div>\n",
              "  </div>\n",
              "  "
            ]
          },
          "metadata": {},
          "execution_count": 101
        }
      ]
    },
    {
      "cell_type": "code",
      "source": [],
      "metadata": {
        "colab": {
          "base_uri": "https://localhost:8080/"
        },
        "id": "M5ItSWskXzCP",
        "outputId": "7750b8fc-edcc-4c4b-daa2-128438a6f98c"
      },
      "execution_count": 110,
      "outputs": [
        {
          "output_type": "execute_result",
          "data": {
            "text/plain": [
              "118552353.0"
            ]
          },
          "metadata": {},
          "execution_count": 110
        }
      ]
    },
    {
      "cell_type": "code",
      "source": [
        "fig1, ax1 = plt.subplots(figsize=(23, 10), ncols=2)\n",
        "\n",
        "ax1[0].bar(x=votos_estados.index, height=votos_estados[\"Relevancia\"])\n",
        "ax1[0].set_facecolor('xkcd:salmon')\n",
        "# ax1.axis('equal')\n",
        "ax1[0].legend()\n",
        "ax1[0].set_title(\"Relevancia de cada estado na eleição\")\n",
        "\n",
        "ax1[1].pie(top3_relevancia[\"Relevancia\"], labels=top3_relevancia.index, autopct='%1.1f%%', \n",
        "        startangle=90)\n",
        "ax1[1].set_facecolor('xkcd:salmon')\n",
        "# ax1.axis('equal')\n",
        "ax1[1].legend()\n",
        "ax1[1].set_title(\"Relevancia de cada estado na eleição\")\n"
      ],
      "metadata": {
        "colab": {
          "base_uri": "https://localhost:8080/",
          "height": 663
        },
        "id": "wTrdv4iWRBVe",
        "outputId": "041e4be4-8965-4800-8b8f-9a8d8638f2de"
      },
      "execution_count": 117,
      "outputs": [
        {
          "output_type": "stream",
          "name": "stderr",
          "text": [
            "WARNING:matplotlib.legend:No artists with labels found to put in legend.  Note that artists whose label start with an underscore are ignored when legend() is called with no argument.\n"
          ]
        },
        {
          "output_type": "execute_result",
          "data": {
            "text/plain": [
              "Text(0.5, 1.0, 'Relevancia de cada estado na eleição')"
            ]
          },
          "metadata": {},
          "execution_count": 117
        },
        {
          "output_type": "display_data",
          "data": {
            "text/plain": [
              "<Figure size 1656x720 with 2 Axes>"
            ],
            "image/png": "[encoded data removed]"
          },
          "metadata": {
            "needs_background": "light"
          }
        }
      ]
    },
    {
      "cell_type": "code",
      "source": [],
      "metadata": {
        "id": "-sFl5TJYQSAa"
      },
      "execution_count": null,
      "outputs": []
    },
    {
      "cell_type": "markdown",
      "source": [
        "# Não AGRUPADO POR CORDENADA"
      ],
      "metadata": {
        "id": "cmxh71c5Ee2O"
      }
    },
    {
      "cell_type": "code",
      "source": [
        "df[df[\"qt_votos_validos\"] == df[\"qt_votos_validos\"].max()]"
      ],
      "metadata": {
        "colab": {
          "base_uri": "https://localhost:8080/",
          "height": 228
        },
        "id": "pC75qCrZP8eL",
        "outputId": "3c513263-eea3-4811-d0e5-ccfb88f122ae"
      },
      "execution_count": 6,
      "outputs": [
        {
          "output_type": "execute_result",
          "data": {
            "text/plain": [
              "        ds_cargo  cd_municipio nm_municipio nm_regiao  nr_turno sg_uf  \\\n",
              "8498  Presidente         71072    SÃO PAULO   SUDESTE         2    SP   \n",
              "8499  Presidente         71072    SÃO PAULO   SUDESTE         2    SP   \n",
              "\n",
              "      nr_zona               nm_candidato  nr_candidato sg_partido  \\\n",
              "8498      372     JAIR MESSIAS BOLSONARO            22         PL   \n",
              "8499      372  LUIZ INÁCIO LULA DA SILVA            13         PT   \n",
              "\n",
              "     ds_sit_totalizacao  qt_votos_nominais  qt_votos_validos  \\\n",
              "8498         Não Eleito              70698            211515   \n",
              "8499             Eleito             140817            211515   \n",
              "\n",
              "                 dt_carga  \n",
              "8498  2022-11-04 15:55:26  \n",
              "8499  2022-11-04 15:55:26  "
            ],
            "text/html": [
              "\n",
              "  <div id=\"df-f12f6f2f-4a20-434c-b4f5-6acca1fd89fa\">\n",
              "    <div class=\"colab-df-container\">\n",
              "      <div>\n",
              "<style scoped>\n",
              "    .dataframe tbody tr th:only-of-type {\n",
              "        vertical-align: middle;\n",
              "    }\n",
              "\n",
              "    .dataframe tbody tr th {\n",
              "        vertical-align: top;\n",
              "    }\n",
              "\n",
              "    .dataframe thead th {\n",
              "        text-align: right;\n",
              "    }\n",
              "</style>\n",
              "<table border=\"1\" class=\"dataframe\">\n",
              "  <thead>\n",
              "    <tr style=\"text-align: right;\">\n",
              "      <th></th>\n",
              "      <th>ds_cargo</th>\n",
              "      <th>cd_municipio</th>\n",
              "      <th>nm_municipio</th>\n",
              "      <th>nm_regiao</th>\n",
              "      <th>nr_turno</th>\n",
              "      <th>sg_uf</th>\n",
              "      <th>nr_zona</th>\n",
              "      <th>nm_candidato</th>\n",
              "      <th>nr_candidato</th>\n",
              "      <th>sg_partido</th>\n",
              "      <th>ds_sit_totalizacao</th>\n",
              "      <th>qt_votos_nominais</th>\n",
              "      <th>qt_votos_validos</th>\n",
              "      <th>dt_carga</th>\n",
              "    </tr>\n",
              "  </thead>\n",
              "  <tbody>\n",
              "    <tr>\n",
              "      <th>8498</th>\n",
              "      <td>Presidente</td>\n",
              "      <td>71072</td>\n",
              "      <td>SÃO PAULO</td>\n",
              "      <td>SUDESTE</td>\n",
              "      <td>2</td>\n",
              "      <td>SP</td>\n",
              "      <td>372</td>\n",
              "      <td>JAIR MESSIAS BOLSONARO</td>\n",
              "      <td>22</td>\n",
              "      <td>PL</td>\n",
              "      <td>Não Eleito</td>\n",
              "      <td>70698</td>\n",
              "      <td>211515</td>\n",
              "      <td>2022-11-04 15:55:26</td>\n",
              "    </tr>\n",
              "    <tr>\n",
              "      <th>8499</th>\n",
              "      <td>Presidente</td>\n",
              "      <td>71072</td>\n",
              "      <td>SÃO PAULO</td>\n",
              "      <td>SUDESTE</td>\n",
              "      <td>2</td>\n",
              "      <td>SP</td>\n",
              "      <td>372</td>\n",
              "      <td>LUIZ INÁCIO LULA DA SILVA</td>\n",
              "      <td>13</td>\n",
              "      <td>PT</td>\n",
              "      <td>Eleito</td>\n",
              "      <td>140817</td>\n",
              "      <td>211515</td>\n",
              "      <td>2022-11-04 15:55:26</td>\n",
              "    </tr>\n",
              "  </tbody>\n",
              "</table>\n",
              "</div>\n",
              "      <button class=\"colab-df-convert\" onclick=\"convertToInteractive('df-f12f6f2f-4a20-434c-b4f5-6acca1fd89fa')\"\n",
              "              title=\"Convert this dataframe to an interactive table.\"\n",
              "              style=\"display:none;\">\n",
              "        \n",
              "  <svg xmlns=\"http://www.w3.org/2000/svg\" height=\"24px\"viewBox=\"0 0 24 24\"\n",
              "       width=\"24px\">\n",
              "    <path d=\"M0 0h24v24H0V0z\" fill=\"none\"/>\n",
              "    <path d=\"M18.56 5.44l.94 2.06.94-2.06 2.06-.94-2.06-.94-.94-2.06-.94 2.06-2.06.94zm-11 1L8.5 8.5l.94-2.06 2.06-.94-2.06-.94L8.5 2.5l-.94 2.06-2.06.94zm10 10l.94 2.06.94-2.06 2.06-.94-2.06-.94-.94-2.06-.94 2.06-2.06.94z\"/><path d=\"M17.41 7.96l-1.37-1.37c-.4-.4-.92-.59-1.43-.59-.52 0-1.04.2-1.43.59L10.3 9.45l-7.72 7.72c-.78.78-.78 2.05 0 2.83L4 21.41c.39.39.9.59 1.41.59.51 0 1.02-.2 1.41-.59l7.78-7.78 2.81-2.81c.8-.78.8-2.07 0-2.86zM5.41 20L4 18.59l7.72-7.72 1.47 1.35L5.41 20z\"/>\n",
              "  </svg>\n",
              "      </button>\n",
              "      \n",
              "  <style>\n",
              "    .colab-df-container {\n",
              "      display:flex;\n",
              "      flex-wrap:wrap;\n",
              "      gap: 12px;\n",
              "    }\n",
              "\n",
              "    .colab-df-convert {\n",
              "      background-color: #E8F0FE;\n",
              "      border: none;\n",
              "      border-radius: 50%;\n",
              "      cursor: pointer;\n",
              "      display: none;\n",
              "      fill: #1967D2;\n",
              "      height: 32px;\n",
              "      padding: 0 0 0 0;\n",
              "      width: 32px;\n",
              "    }\n",
              "\n",
              "    .colab-df-convert:hover {\n",
              "      background-color: #E2EBFA;\n",
              "      box-shadow: 0px 1px 2px rgba(60, 64, 67, 0.3), 0px 1px 3px 1px rgba(60, 64, 67, 0.15);\n",
              "      fill: #174EA6;\n",
              "    }\n",
              "\n",
              "    [theme=dark] .colab-df-convert {\n",
              "      background-color: #3B4455;\n",
              "      fill: #D2E3FC;\n",
              "    }\n",
              "\n",
              "    [theme=dark] .colab-df-convert:hover {\n",
              "      background-color: #434B5C;\n",
              "      box-shadow: 0px 1px 3px 1px rgba(0, 0, 0, 0.15);\n",
              "      filter: drop-shadow(0px 1px 2px rgba(0, 0, 0, 0.3));\n",
              "      fill: #FFFFFF;\n",
              "    }\n",
              "  </style>\n",
              "\n",
              "      <script>\n",
              "        const buttonEl =\n",
              "          document.querySelector('#df-f12f6f2f-4a20-434c-b4f5-6acca1fd89fa button.colab-df-convert');\n",
              "        buttonEl.style.display =\n",
              "          google.colab.kernel.accessAllowed ? 'block' : 'none';\n",
              "\n",
              "        async function convertToInteractive(key) {\n",
              "          const element = document.querySelector('#df-f12f6f2f-4a20-434c-b4f5-6acca1fd89fa');\n",
              "          const dataTable =\n",
              "            await google.colab.kernel.invokeFunction('convertToInteractive',\n",
              "                                                     [key], {});\n",
              "          if (!dataTable) return;\n",
              "\n",
              "          const docLinkHtml = 'Like what you see? Visit the ' +\n",
              "            '<a target=\"_blank\" href=https://colab.research.google.com/notebooks/data_table.ipynb>data table notebook</a>'\n",
              "            + ' to learn more about interactive tables.';\n",
              "          element.innerHTML = '';\n",
              "          dataTable['output_type'] = 'display_data';\n",
              "          await google.colab.output.renderOutput(dataTable, element);\n",
              "          const docLink = document.createElement('div');\n",
              "          docLink.innerHTML = docLinkHtml;\n",
              "          element.appendChild(docLink);\n",
              "        }\n",
              "      </script>\n",
              "    </div>\n",
              "  </div>\n",
              "  "
            ]
          },
          "metadata": {},
          "execution_count": 6
        }
      ]
    },
    {
      "cell_type": "code",
      "source": [
        "sum(df[\"qt_votos_validos\"])/2"
      ],
      "metadata": {
        "id": "U5gTUsQwNwjw",
        "colab": {
          "base_uri": "https://localhost:8080/"
        },
        "outputId": "2e09e8f5-9750-4a45-d087-12cbb4ee197f"
      },
      "execution_count": null,
      "outputs": [
        {
          "output_type": "execute_result",
          "data": {
            "text/plain": [
              "118552353.0"
            ]
          },
          "metadata": {},
          "execution_count": 5
        }
      ]
    },
    {
      "cell_type": "code",
      "source": [
        "sum(df[\"qt_votos_nominais\"][\"JAIR MESSIAS BOLSONARO\" == df[\"nm_candidato\"]])"
      ],
      "metadata": {
        "colab": {
          "base_uri": "https://localhost:8080/"
        },
        "id": "y_mX9c2pdhrc",
        "outputId": "6c3d3ec5-b6de-4989-fc25-9e9a537903c9"
      },
      "execution_count": null,
      "outputs": [
        {
          "output_type": "execute_result",
          "data": {
            "text/plain": [
              "58206354"
            ]
          },
          "metadata": {},
          "execution_count": 6
        }
      ]
    },
    {
      "cell_type": "code",
      "source": [
        "sum(df[\"qt_votos_nominais\"][\"LUIZ INÁCIO LULA DA SILVA\" == df[\"nm_candidato\"]])"
      ],
      "metadata": {
        "colab": {
          "base_uri": "https://localhost:8080/"
        },
        "id": "3g8tkXlGd89M",
        "outputId": "1710a51b-3ecc-4ef2-97c2-a2fcf1325af2"
      },
      "execution_count": null,
      "outputs": [
        {
          "output_type": "execute_result",
          "data": {
            "text/plain": [
              "60345999"
            ]
          },
          "metadata": {},
          "execution_count": 7
        }
      ]
    },
    {
      "cell_type": "code",
      "source": [
        "df[df[\"nm_municipio\"] == \"SÃO PAULO\"]"
      ],
      "metadata": {
        "id": "zM3tMjxKg2C2"
      },
      "execution_count": null,
      "outputs": []
    },
    {
      "cell_type": "code",
      "source": [
        "df[df[\"sg_uf\"] == \"SP\"]"
      ],
      "metadata": {
        "id": "NUs7tOQm3Mdg"
      },
      "execution_count": null,
      "outputs": []
    },
    {
      "cell_type": "code",
      "source": [
        "voto_zero = df[df[\"qt_votos_nominais\"] == 0][\"cd_municipio\"].unique()"
      ],
      "metadata": {
        "id": "WWUO7Fczm06Q"
      },
      "execution_count": null,
      "outputs": []
    },
    {
      "cell_type": "code",
      "source": [
        " tabela_zero = df[df[\"cd_municipio\"].isin(voto_zero)]\n",
        " tabela_zero[tabela_zero[\"qt_votos_nominais\"] > 0]\n"
      ],
      "metadata": {
        "id": "T_Oizxr2pfY1"
      },
      "execution_count": null,
      "outputs": []
    },
    {
      "cell_type": "code",
      "source": [
        "df[df[\"cd_municipio\"] == 0]"
      ],
      "metadata": {
        "id": "Gnmrx3RotVlu"
      },
      "execution_count": null,
      "outputs": []
    },
    {
      "cell_type": "code",
      "source": [
        "lula = df[df[\"nr_candidato\"] == 13].sort_values(by=['dt_carga'])\n",
        "bolsonaro = df[df[\"nr_candidato\"] == 22].sort_values(by=['dt_carga'])"
      ],
      "metadata": {
        "id": "Klnz6zWsu6fx"
      },
      "execution_count": 8,
      "outputs": []
    },
    {
      "cell_type": "code",
      "source": [
        "bolsonaro_votos = (bolsonaro.groupby(\"sg_uf\"))[\"qt_votos_nominais\"].sum()\n"
      ],
      "metadata": {
        "id": "8cC_uxz45RbJ"
      },
      "execution_count": 29,
      "outputs": []
    },
    {
      "cell_type": "code",
      "source": [
        "lula_votos = (lula.groupby(\"sg_uf\"))[\"qt_votos_nominais\"].sum()\n"
      ],
      "metadata": {
        "id": "U0HzULew4oGG"
      },
      "execution_count": 30,
      "outputs": []
    },
    {
      "cell_type": "code",
      "source": [
        "lula[[\"qt_votos_nominais\", 'nr_zona']].values"
      ],
      "metadata": {
        "id": "52lH58Dlw58d"
      },
      "execution_count": null,
      "outputs": []
    },
    {
      "cell_type": "code",
      "source": [
        "bolsonaro_votos\n",
        "lula_votos"
      ],
      "metadata": {
        "id": "Ko9fWqr60MFl"
      },
      "execution_count": null,
      "outputs": []
    },
    {
      "cell_type": "code",
      "source": [
        "caditado_maior_votos_per_region = pd.DataFrame(columns=[\"Votos\", \"Canditado\"])\n",
        "\n",
        "for region in bolsonaro_votos.index:\n",
        "  if bolsonaro_votos[bolsonaro_votos.index == region].values > lula_votos[lula_votos.index == region].values:\n",
        "    caditado_maior_votos_per_region = caditado_maior_votos_per_region.append(\n",
        "        {\"Votos\": bolsonaro_votos[bolsonaro_votos.index == region].values[0], \n",
        "         \"Canditado\": \"blue\"}\n",
        "        , ignore_index=True)\n",
        "  else:\n",
        "    caditado_maior_votos_per_region = caditado_maior_votos_per_region.append(\n",
        "        {\"Votos\": lula_votos[lula_votos.index == region].values[0], \n",
        "         \"Canditado\": \"red\"}, \n",
        "         ignore_index=True)\n",
        "    \n",
        "caditado_maior_votos_per_region.index = lula_votos.index\n",
        "caditado_maior_votos_per_region"
      ],
      "metadata": {
        "id": "_13yngCO0hiL"
      },
      "execution_count": null,
      "outputs": []
    },
    {
      "cell_type": "code",
      "source": [
        "caditado_maior_votos_per_region = caditado_maior_votos_per_region.sort_values(\"Votos\", ascending=False)\n",
        "caditado_maior_votos_per_region.sum()"
      ],
      "metadata": {
        "colab": {
          "base_uri": "https://localhost:8080/"
        },
        "id": "9hf2GWWx4xGr",
        "outputId": "6cc9e2da-9ee4-45f4-a853-7ed337db43c7"
      },
      "execution_count": 44,
      "outputs": [
        {
          "output_type": "execute_result",
          "data": {
            "text/plain": [
              "Votos                                                 71337043\n",
              "Canditado    blueredredblueblueredblueredblueredredblueredr...\n",
              "dtype: object"
            ]
          },
          "metadata": {},
          "execution_count": 44
        }
      ]
    },
    {
      "cell_type": "code",
      "source": [
        "\n",
        "\n",
        "fig, ax = plt.subplots(dpi=100, figsize=(20,20))\n",
        "ax.scatter(x=lula_votos.index, y=lula_votos.values/10, s=65, label=\"LULA\", alpha=0.8, color=\"red\")\n",
        "ax.scatter(x=bolsonaro_votos.index, y=bolsonaro_votos.values/10, s=65, label=\"BOLSO\", alpha=0.8, color=\"blue\")\n",
        "ax.set_xticks([0,100,1000])\n",
        "ax.set_xticklabels(lula_votos.index[:3])\n",
        "# # ax.set_yticks([0,100,1000, 10000])\n",
        "# ax.set_yticklabels([0,100,1000, 10000])\n",
        "\n",
        "# ax.set_xlim(0, len(bolsonaro_votos.index))\n",
        "# ax.set_ylim(0, 10000)"
      ],
      "metadata": {
        "id": "TK2GeFvBvNUQ"
      },
      "execution_count": null,
      "outputs": []
    },
    {
      "cell_type": "code",
      "source": [
        "caditado_maior_votos_per_region[caditado_maior_votos_per_region[\"Votos\"] == caditado_maior_votos_per_region[\"Votos\"].max()]"
      ],
      "metadata": {
        "id": "vWmSsdqH81et"
      },
      "execution_count": null,
      "outputs": []
    },
    {
      "cell_type": "code",
      "source": [
        "fig, ax = plt.subplots(dpi=100, figsize=(20,20))\n",
        "ax.scatter(x=caditado_maior_votos_per_region.index, y=caditado_maior_votos_per_region[\"Votos\"].values, \n",
        "           s=65, label=\"LULA\", alpha=0.8, color=caditado_maior_votos_per_region['Canditado'])\n",
        "\n",
        "plt.plot((0, len(caditado_maior_votos_per_region.index)), (8, 8), color=\"Red\", label=\"Linha TOP 8\")\n",
        "\n",
        "# ax.set_xticks([0,100,1000])\n",
        "# ax.set_xticklabels(lula_votos.index[:3])\n",
        "# ax.set_yticks([0,100,1000, 10000])\n",
        "# ax.set_yticklabels([0,100,1000, 10000])\n",
        "\n",
        "# ax.set_xlim(-100, len(bolsonaro_votos.index) + 100)\n",
        "# ax.set_ylim(-100, 1000000)\n",
        "# ax.set_xscale(\"log\")\n",
        "# ax.set_yscale(\"log\")"
      ],
      "metadata": {
        "colab": {
          "base_uri": "https://localhost:8080/",
          "height": 1000
        },
        "id": "_c1NhL7r6Z6a",
        "outputId": "42ffff63-b525-4b18-a91b-ca575f113cb8"
      },
      "execution_count": 39,
      "outputs": [
        {
          "output_type": "execute_result",
          "data": {
            "text/plain": [
              "[<matplotlib.lines.Line2D at 0x7fa814a96820>]"
            ]
          },
          "metadata": {},
          "execution_count": 39
        },
        {
          "output_type": "display_data",
          "data": {
            "text/plain": [
              "<Figure size 2000x2000 with 1 Axes>"
            ],
            "image/png": "[encoded data removed]"
          },
          "metadata": {
            "needs_background": "light"
          }
        }
      ]
    },
    {
      "cell_type": "code",
      "source": [
        "v = bolsonaro_votos.max()\n",
        "bolsonaro_votos[bolsonaro_votos.values == v]"
      ],
      "metadata": {
        "colab": {
          "base_uri": "https://localhost:8080/"
        },
        "id": "NxBXDK7qFBv7",
        "outputId": "bd039246-40d7-4cce-ddde-77c0b698aa53"
      },
      "execution_count": null,
      "outputs": [
        {
          "output_type": "execute_result",
          "data": {
            "text/plain": [
              "nm_municipio\n",
              "SÃO PAULO    3191484\n",
              "Name: qt_votos_nominais, dtype: int64"
            ]
          },
          "metadata": {},
          "execution_count": 68
        }
      ]
    },
    {
      "cell_type": "code",
      "source": [
        "bolsonaro_votos.sort_values(ascending=False)[:10]"
      ],
      "metadata": {
        "colab": {
          "base_uri": "https://localhost:8080/"
        },
        "id": "zYJkupfAHn72",
        "outputId": "4c85b36e-ffaa-47dc-b3e1-324bcdd8c6e2"
      },
      "execution_count": null,
      "outputs": [
        {
          "output_type": "execute_result",
          "data": {
            "text/plain": [
              "nm_municipio\n",
              "SÃO PAULO         3191484\n",
              "RIO DE JANEIRO    1929209\n",
              "BRASÍLIA          1041331\n",
              "BELO HORIZONTE     834548\n",
              "CURITIBA           720322\n",
              "MANAUS             692580\n",
              "FORTALEZA          633009\n",
              "GOIÂNIA            513018\n",
              "SALVADOR           451131\n",
              "RECIFE             433317\n",
              "Name: qt_votos_nominais, dtype: int64"
            ]
          },
          "metadata": {},
          "execution_count": 69
        }
      ]
    },
    {
      "cell_type": "code",
      "source": [
        "lula_votos.sort_values(ascending=False)[:10]"
      ],
      "metadata": {
        "colab": {
          "base_uri": "https://localhost:8080/"
        },
        "id": "er1655_PIIBq",
        "outputId": "2731deb4-a828-431a-d606-19c9a97c0ff5"
      },
      "execution_count": null,
      "outputs": [
        {
          "output_type": "execute_result",
          "data": {
            "text/plain": [
              "nm_municipio\n",
              "SÃO PAULO         3677921\n",
              "RIO DE JANEIRO    1734159\n",
              "SALVADOR          1089899\n",
              "FORTALEZA          880559\n",
              "BRASÍLIA           729295\n",
              "BELO HORIZONTE     703755\n",
              "RECIFE             558690\n",
              "BELÉM              441271\n",
              "PORTO ALEGRE       437798\n",
              "MANAUS             437691\n",
              "Name: qt_votos_nominais, dtype: int64"
            ]
          },
          "metadata": {},
          "execution_count": 70
        }
      ]
    },
    {
      "cell_type": "code",
      "source": [
        "votos_atuais = 0\n",
        "votos = []\n",
        "for n_voto in lula_votos:\n",
        "  votos_atuais = votos_atuais + n_voto\n",
        "  votos.append(votos_atuais)\n",
        "  \n",
        "votos_processo_votos_lula = pd.DataFrame(votos, index=lula_votos.index)\n",
        "votos_processo_votos_lula"
      ],
      "metadata": {
        "colab": {
          "base_uri": "https://localhost:8080/",
          "height": 455
        },
        "id": "ngBbaGgeJrUm",
        "outputId": "34cbd363-e6dc-41b3-b488-05569336739d"
      },
      "execution_count": null,
      "outputs": [
        {
          "output_type": "execute_result",
          "data": {
            "text/plain": [
              "                            0\n",
              "nm_municipio                 \n",
              "ABADIA DE GOIÁS          3814\n",
              "ABADIA DOS DOURADOS      6165\n",
              "ABADIÂNIA                8939\n",
              "ABAETETUBA              81252\n",
              "ABAETÉ                  87554\n",
              "...                       ...\n",
              "ÁUREA                60319808\n",
              "ÂNGULO               60320537\n",
              "ÉRICO CARDOSO        60325452\n",
              "ÓBIDOS               60345328\n",
              "ÓLEO                 60345999\n",
              "\n",
              "[5466 rows x 1 columns]"
            ],
            "text/html": [
              "\n",
              "  <div id=\"df-accec99a-bcde-4359-9b18-5bd0d3f19ac6\">\n",
              "    <div class=\"colab-df-container\">\n",
              "      <div>\n",
              "<style scoped>\n",
              "    .dataframe tbody tr th:only-of-type {\n",
              "        vertical-align: middle;\n",
              "    }\n",
              "\n",
              "    .dataframe tbody tr th {\n",
              "        vertical-align: top;\n",
              "    }\n",
              "\n",
              "    .dataframe thead th {\n",
              "        text-align: right;\n",
              "    }\n",
              "</style>\n",
              "<table border=\"1\" class=\"dataframe\">\n",
              "  <thead>\n",
              "    <tr style=\"text-align: right;\">\n",
              "      <th></th>\n",
              "      <th>0</th>\n",
              "    </tr>\n",
              "    <tr>\n",
              "      <th>nm_municipio</th>\n",
              "      <th></th>\n",
              "    </tr>\n",
              "  </thead>\n",
              "  <tbody>\n",
              "    <tr>\n",
              "      <th>ABADIA DE GOIÁS</th>\n",
              "      <td>3814</td>\n",
              "    </tr>\n",
              "    <tr>\n",
              "      <th>ABADIA DOS DOURADOS</th>\n",
              "      <td>6165</td>\n",
              "    </tr>\n",
              "    <tr>\n",
              "      <th>ABADIÂNIA</th>\n",
              "      <td>8939</td>\n",
              "    </tr>\n",
              "    <tr>\n",
              "      <th>ABAETETUBA</th>\n",
              "      <td>81252</td>\n",
              "    </tr>\n",
              "    <tr>\n",
              "      <th>ABAETÉ</th>\n",
              "      <td>87554</td>\n",
              "    </tr>\n",
              "    <tr>\n",
              "      <th>...</th>\n",
              "      <td>...</td>\n",
              "    </tr>\n",
              "    <tr>\n",
              "      <th>ÁUREA</th>\n",
              "      <td>60319808</td>\n",
              "    </tr>\n",
              "    <tr>\n",
              "      <th>ÂNGULO</th>\n",
              "      <td>60320537</td>\n",
              "    </tr>\n",
              "    <tr>\n",
              "      <th>ÉRICO CARDOSO</th>\n",
              "      <td>60325452</td>\n",
              "    </tr>\n",
              "    <tr>\n",
              "      <th>ÓBIDOS</th>\n",
              "      <td>60345328</td>\n",
              "    </tr>\n",
              "    <tr>\n",
              "      <th>ÓLEO</th>\n",
              "      <td>60345999</td>\n",
              "    </tr>\n",
              "  </tbody>\n",
              "</table>\n",
              "<p>5466 rows × 1 columns</p>\n",
              "</div>\n",
              "      <button class=\"colab-df-convert\" onclick=\"convertToInteractive('df-accec99a-bcde-4359-9b18-5bd0d3f19ac6')\"\n",
              "              title=\"Convert this dataframe to an interactive table.\"\n",
              "              style=\"display:none;\">\n",
              "        \n",
              "  <svg xmlns=\"http://www.w3.org/2000/svg\" height=\"24px\"viewBox=\"0 0 24 24\"\n",
              "       width=\"24px\">\n",
              "    <path d=\"M0 0h24v24H0V0z\" fill=\"none\"/>\n",
              "    <path d=\"M18.56 5.44l.94 2.06.94-2.06 2.06-.94-2.06-.94-.94-2.06-.94 2.06-2.06.94zm-11 1L8.5 8.5l.94-2.06 2.06-.94-2.06-.94L8.5 2.5l-.94 2.06-2.06.94zm10 10l.94 2.06.94-2.06 2.06-.94-2.06-.94-.94-2.06-.94 2.06-2.06.94z\"/><path d=\"M17.41 7.96l-1.37-1.37c-.4-.4-.92-.59-1.43-.59-.52 0-1.04.2-1.43.59L10.3 9.45l-7.72 7.72c-.78.78-.78 2.05 0 2.83L4 21.41c.39.39.9.59 1.41.59.51 0 1.02-.2 1.41-.59l7.78-7.78 2.81-2.81c.8-.78.8-2.07 0-2.86zM5.41 20L4 18.59l7.72-7.72 1.47 1.35L5.41 20z\"/>\n",
              "  </svg>\n",
              "      </button>\n",
              "      \n",
              "  <style>\n",
              "    .colab-df-container {\n",
              "      display:flex;\n",
              "      flex-wrap:wrap;\n",
              "      gap: 12px;\n",
              "    }\n",
              "\n",
              "    .colab-df-convert {\n",
              "      background-color: #E8F0FE;\n",
              "      border: none;\n",
              "      border-radius: 50%;\n",
              "      cursor: pointer;\n",
              "      display: none;\n",
              "      fill: #1967D2;\n",
              "      height: 32px;\n",
              "      padding: 0 0 0 0;\n",
              "      width: 32px;\n",
              "    }\n",
              "\n",
              "    .colab-df-convert:hover {\n",
              "      background-color: #E2EBFA;\n",
              "      box-shadow: 0px 1px 2px rgba(60, 64, 67, 0.3), 0px 1px 3px 1px rgba(60, 64, 67, 0.15);\n",
              "      fill: #174EA6;\n",
              "    }\n",
              "\n",
              "    [theme=dark] .colab-df-convert {\n",
              "      background-color: #3B4455;\n",
              "      fill: #D2E3FC;\n",
              "    }\n",
              "\n",
              "    [theme=dark] .colab-df-convert:hover {\n",
              "      background-color: #434B5C;\n",
              "      box-shadow: 0px 1px 3px 1px rgba(0, 0, 0, 0.15);\n",
              "      filter: drop-shadow(0px 1px 2px rgba(0, 0, 0, 0.3));\n",
              "      fill: #FFFFFF;\n",
              "    }\n",
              "  </style>\n",
              "\n",
              "      <script>\n",
              "        const buttonEl =\n",
              "          document.querySelector('#df-accec99a-bcde-4359-9b18-5bd0d3f19ac6 button.colab-df-convert');\n",
              "        buttonEl.style.display =\n",
              "          google.colab.kernel.accessAllowed ? 'block' : 'none';\n",
              "\n",
              "        async function convertToInteractive(key) {\n",
              "          const element = document.querySelector('#df-accec99a-bcde-4359-9b18-5bd0d3f19ac6');\n",
              "          const dataTable =\n",
              "            await google.colab.kernel.invokeFunction('convertToInteractive',\n",
              "                                                     [key], {});\n",
              "          if (!dataTable) return;\n",
              "\n",
              "          const docLinkHtml = 'Like what you see? Visit the ' +\n",
              "            '<a target=\"_blank\" href=https://colab.research.google.com/notebooks/data_table.ipynb>data table notebook</a>'\n",
              "            + ' to learn more about interactive tables.';\n",
              "          element.innerHTML = '';\n",
              "          dataTable['output_type'] = 'display_data';\n",
              "          await google.colab.output.renderOutput(dataTable, element);\n",
              "          const docLink = document.createElement('div');\n",
              "          docLink.innerHTML = docLinkHtml;\n",
              "          element.appendChild(docLink);\n",
              "        }\n",
              "      </script>\n",
              "    </div>\n",
              "  </div>\n",
              "  "
            ]
          },
          "metadata": {},
          "execution_count": 71
        }
      ]
    },
    {
      "cell_type": "code",
      "source": [
        "bolsonaro_votos"
      ],
      "metadata": {
        "colab": {
          "base_uri": "https://localhost:8080/"
        },
        "id": "YpiQEgLdM_f_",
        "outputId": "0fb7534d-7c64-4a24-b69e-c888f64badcb"
      },
      "execution_count": null,
      "outputs": [
        {
          "output_type": "execute_result",
          "data": {
            "text/plain": [
              "nm_municipio\n",
              "ABADIA DE GOIÁS         5394\n",
              "ABADIA DOS DOURADOS     2160\n",
              "ABADIÂNIA               5759\n",
              "ABAETETUBA             25118\n",
              "ABAETÉ                  7696\n",
              "                       ...  \n",
              "ÁUREA                   1634\n",
              "ÂNGULO                  1437\n",
              "ÉRICO CARDOSO           1175\n",
              "ÓBIDOS                  8577\n",
              "ÓLEO                    1163\n",
              "Name: qt_votos_nominais, Length: 5466, dtype: int64"
            ]
          },
          "metadata": {},
          "execution_count": 72
        }
      ]
    },
    {
      "cell_type": "code",
      "source": [
        "votos_atuais = 0\n",
        "votos = []\n",
        "for n_voto in bolsonaro_votos:\n",
        "  votos_atuais = votos_atuais + n_voto\n",
        "  votos.append(votos_atuais)\n",
        "  \n",
        "votos_processo_votos_bolsonaro = pd.DataFrame(votos, index=bolsonaro_votos.index)\n",
        "votos_processo_votos_bolsonaro"
      ],
      "metadata": {
        "id": "kqWSIZnLM2td",
        "colab": {
          "base_uri": "https://localhost:8080/",
          "height": 455
        },
        "outputId": "f0dc0a95-85fd-4d85-b2f9-68a059478dc1"
      },
      "execution_count": null,
      "outputs": [
        {
          "output_type": "execute_result",
          "data": {
            "text/plain": [
              "                            0\n",
              "nm_municipio                 \n",
              "ABADIA DE GOIÁS          5394\n",
              "ABADIA DOS DOURADOS      7554\n",
              "ABADIÂNIA               13313\n",
              "ABAETETUBA              38431\n",
              "ABAETÉ                  46127\n",
              "...                       ...\n",
              "ÁUREA                58194002\n",
              "ÂNGULO               58195439\n",
              "ÉRICO CARDOSO        58196614\n",
              "ÓBIDOS               58205191\n",
              "ÓLEO                 58206354\n",
              "\n",
              "[5466 rows x 1 columns]"
            ],
            "text/html": [
              "\n",
              "  <div id=\"df-cac77e71-0a41-4f20-a1e7-734ad6a0ac94\">\n",
              "    <div class=\"colab-df-container\">\n",
              "      <div>\n",
              "<style scoped>\n",
              "    .dataframe tbody tr th:only-of-type {\n",
              "        vertical-align: middle;\n",
              "    }\n",
              "\n",
              "    .dataframe tbody tr th {\n",
              "        vertical-align: top;\n",
              "    }\n",
              "\n",
              "    .dataframe thead th {\n",
              "        text-align: right;\n",
              "    }\n",
              "</style>\n",
              "<table border=\"1\" class=\"dataframe\">\n",
              "  <thead>\n",
              "    <tr style=\"text-align: right;\">\n",
              "      <th></th>\n",
              "      <th>0</th>\n",
              "    </tr>\n",
              "    <tr>\n",
              "      <th>nm_municipio</th>\n",
              "      <th></th>\n",
              "    </tr>\n",
              "  </thead>\n",
              "  <tbody>\n",
              "    <tr>\n",
              "      <th>ABADIA DE GOIÁS</th>\n",
              "      <td>5394</td>\n",
              "    </tr>\n",
              "    <tr>\n",
              "      <th>ABADIA DOS DOURADOS</th>\n",
              "      <td>7554</td>\n",
              "    </tr>\n",
              "    <tr>\n",
              "      <th>ABADIÂNIA</th>\n",
              "      <td>13313</td>\n",
              "    </tr>\n",
              "    <tr>\n",
              "      <th>ABAETETUBA</th>\n",
              "      <td>38431</td>\n",
              "    </tr>\n",
              "    <tr>\n",
              "      <th>ABAETÉ</th>\n",
              "      <td>46127</td>\n",
              "    </tr>\n",
              "    <tr>\n",
              "      <th>...</th>\n",
              "      <td>...</td>\n",
              "    </tr>\n",
              "    <tr>\n",
              "      <th>ÁUREA</th>\n",
              "      <td>58194002</td>\n",
              "    </tr>\n",
              "    <tr>\n",
              "      <th>ÂNGULO</th>\n",
              "      <td>58195439</td>\n",
              "    </tr>\n",
              "    <tr>\n",
              "      <th>ÉRICO CARDOSO</th>\n",
              "      <td>58196614</td>\n",
              "    </tr>\n",
              "    <tr>\n",
              "      <th>ÓBIDOS</th>\n",
              "      <td>58205191</td>\n",
              "    </tr>\n",
              "    <tr>\n",
              "      <th>ÓLEO</th>\n",
              "      <td>58206354</td>\n",
              "    </tr>\n",
              "  </tbody>\n",
              "</table>\n",
              "<p>5466 rows × 1 columns</p>\n",
              "</div>\n",
              "      <button class=\"colab-df-convert\" onclick=\"convertToInteractive('df-cac77e71-0a41-4f20-a1e7-734ad6a0ac94')\"\n",
              "              title=\"Convert this dataframe to an interactive table.\"\n",
              "              style=\"display:none;\">\n",
              "        \n",
              "  <svg xmlns=\"http://www.w3.org/2000/svg\" height=\"24px\"viewBox=\"0 0 24 24\"\n",
              "       width=\"24px\">\n",
              "    <path d=\"M0 0h24v24H0V0z\" fill=\"none\"/>\n",
              "    <path d=\"M18.56 5.44l.94 2.06.94-2.06 2.06-.94-2.06-.94-.94-2.06-.94 2.06-2.06.94zm-11 1L8.5 8.5l.94-2.06 2.06-.94-2.06-.94L8.5 2.5l-.94 2.06-2.06.94zm10 10l.94 2.06.94-2.06 2.06-.94-2.06-.94-.94-2.06-.94 2.06-2.06.94z\"/><path d=\"M17.41 7.96l-1.37-1.37c-.4-.4-.92-.59-1.43-.59-.52 0-1.04.2-1.43.59L10.3 9.45l-7.72 7.72c-.78.78-.78 2.05 0 2.83L4 21.41c.39.39.9.59 1.41.59.51 0 1.02-.2 1.41-.59l7.78-7.78 2.81-2.81c.8-.78.8-2.07 0-2.86zM5.41 20L4 18.59l7.72-7.72 1.47 1.35L5.41 20z\"/>\n",
              "  </svg>\n",
              "      </button>\n",
              "      \n",
              "  <style>\n",
              "    .colab-df-container {\n",
              "      display:flex;\n",
              "      flex-wrap:wrap;\n",
              "      gap: 12px;\n",
              "    }\n",
              "\n",
              "    .colab-df-convert {\n",
              "      background-color: #E8F0FE;\n",
              "      border: none;\n",
              "      border-radius: 50%;\n",
              "      cursor: pointer;\n",
              "      display: none;\n",
              "      fill: #1967D2;\n",
              "      height: 32px;\n",
              "      padding: 0 0 0 0;\n",
              "      width: 32px;\n",
              "    }\n",
              "\n",
              "    .colab-df-convert:hover {\n",
              "      background-color: #E2EBFA;\n",
              "      box-shadow: 0px 1px 2px rgba(60, 64, 67, 0.3), 0px 1px 3px 1px rgba(60, 64, 67, 0.15);\n",
              "      fill: #174EA6;\n",
              "    }\n",
              "\n",
              "    [theme=dark] .colab-df-convert {\n",
              "      background-color: #3B4455;\n",
              "      fill: #D2E3FC;\n",
              "    }\n",
              "\n",
              "    [theme=dark] .colab-df-convert:hover {\n",
              "      background-color: #434B5C;\n",
              "      box-shadow: 0px 1px 3px 1px rgba(0, 0, 0, 0.15);\n",
              "      filter: drop-shadow(0px 1px 2px rgba(0, 0, 0, 0.3));\n",
              "      fill: #FFFFFF;\n",
              "    }\n",
              "  </style>\n",
              "\n",
              "      <script>\n",
              "        const buttonEl =\n",
              "          document.querySelector('#df-cac77e71-0a41-4f20-a1e7-734ad6a0ac94 button.colab-df-convert');\n",
              "        buttonEl.style.display =\n",
              "          google.colab.kernel.accessAllowed ? 'block' : 'none';\n",
              "\n",
              "        async function convertToInteractive(key) {\n",
              "          const element = document.querySelector('#df-cac77e71-0a41-4f20-a1e7-734ad6a0ac94');\n",
              "          const dataTable =\n",
              "            await google.colab.kernel.invokeFunction('convertToInteractive',\n",
              "                                                     [key], {});\n",
              "          if (!dataTable) return;\n",
              "\n",
              "          const docLinkHtml = 'Like what you see? Visit the ' +\n",
              "            '<a target=\"_blank\" href=https://colab.research.google.com/notebooks/data_table.ipynb>data table notebook</a>'\n",
              "            + ' to learn more about interactive tables.';\n",
              "          element.innerHTML = '';\n",
              "          dataTable['output_type'] = 'display_data';\n",
              "          await google.colab.output.renderOutput(dataTable, element);\n",
              "          const docLink = document.createElement('div');\n",
              "          docLink.innerHTML = docLinkHtml;\n",
              "          element.appendChild(docLink);\n",
              "        }\n",
              "      </script>\n",
              "    </div>\n",
              "  </div>\n",
              "  "
            ]
          },
          "metadata": {},
          "execution_count": 73
        }
      ]
    },
    {
      "cell_type": "code",
      "source": [
        "fig, ax = plt.subplots(dpi=100, figsize=(20,11))\n",
        "ax.plot(votos_processo_votos_bolsonaro, label=\"bolso\")\n",
        "ax.plot(votos_processo_votos_lula, label=\"lula\")\n",
        "\n",
        "ax.set_xticks([x for x in range(1, 1000, 100)])\n",
        "ax.set_xticklabels([x for x in range(1, 1001, 100)])\n",
        "ax.legend()"
      ],
      "metadata": {
        "colab": {
          "base_uri": "https://localhost:8080/",
          "height": 770
        },
        "id": "OFQFe_GWMER2",
        "outputId": "42df82bb-a711-484d-c514-5c9382eacda7"
      },
      "execution_count": null,
      "outputs": [
        {
          "output_type": "execute_result",
          "data": {
            "text/plain": [
              "<matplotlib.legend.Legend at 0x7f75c6845fd0>"
            ]
          },
          "metadata": {},
          "execution_count": 74
        },
        {
          "output_type": "display_data",
          "data": {
            "text/plain": [
              "<Figure size 2000x1100 with 1 Axes>"
            ],
            "image/png": "[encoded data removed]"
          },
          "metadata": {
            "needs_background": "light"
          }
        }
      ]
    },
    {
      "cell_type": "code",
      "source": [
        "votos_processo_votos_bolsonaro[\"Lula\"] = votos_processo_votos_lula.values"
      ],
      "metadata": {
        "id": "gvoHgrYAKows"
      },
      "execution_count": null,
      "outputs": []
    },
    {
      "cell_type": "code",
      "source": [
        "total_votos = votos_processo_votos_bolsonaro.rename(columns={0: \"Bolsonaro\"})\n",
        "total_votos[\"total votos\"] = total_votos[\"Bolsonaro\"] + total_votos[\"Lula\"]\n",
        "total_votos[\"% Lula\"] = round((total_votos[\"Lula\"]/total_votos[\"total votos\"]) * 100, 2)\n",
        "total_votos[\"% Bolsonaro\"] = round((total_votos[\"Bolsonaro\"]/total_votos[\"total votos\"]) * 100, 2)\n",
        "total_votos"
      ],
      "metadata": {
        "colab": {
          "base_uri": "https://localhost:8080/",
          "height": 455
        },
        "id": "nxSOW1GH7RF5",
        "outputId": "bec57915-ba40-4455-b9de-f88c5ad89d20"
      },
      "execution_count": null,
      "outputs": [
        {
          "output_type": "execute_result",
          "data": {
            "text/plain": [
              "                     Bolsonaro      Lula  total votos  % Lula  % Bolsonaro\n",
              "nm_municipio                                                              \n",
              "ABADIA DE GOIÁS           5394      3814         9208   41.42        58.58\n",
              "ABADIA DOS DOURADOS       7554      6165        13719   44.94        55.06\n",
              "ABADIÂNIA                13313      8939        22252   40.17        59.83\n",
              "ABAETETUBA               38431     81252       119683   67.89        32.11\n",
              "ABAETÉ                   46127     87554       133681   65.49        34.51\n",
              "...                        ...       ...          ...     ...          ...\n",
              "ÁUREA                 58194002  60319808    118513810   50.90        49.10\n",
              "ÂNGULO                58195439  60320537    118515976   50.90        49.10\n",
              "ÉRICO CARDOSO         58196614  60325452    118522066   50.90        49.10\n",
              "ÓBIDOS                58205191  60345328    118550519   50.90        49.10\n",
              "ÓLEO                  58206354  60345999    118552353   50.90        49.10\n",
              "\n",
              "[5466 rows x 5 columns]"
            ],
            "text/html": [
              "\n",
              "  <div id=\"df-dd422f48-2934-4452-b271-8dcee795f083\">\n",
              "    <div class=\"colab-df-container\">\n",
              "      <div>\n",
              "<style scoped>\n",
              "    .dataframe tbody tr th:only-of-type {\n",
              "        vertical-align: middle;\n",
              "    }\n",
              "\n",
              "    .dataframe tbody tr th {\n",
              "        vertical-align: top;\n",
              "    }\n",
              "\n",
              "    .dataframe thead th {\n",
              "        text-align: right;\n",
              "    }\n",
              "</style>\n",
              "<table border=\"1\" class=\"dataframe\">\n",
              "  <thead>\n",
              "    <tr style=\"text-align: right;\">\n",
              "      <th></th>\n",
              "      <th>Bolsonaro</th>\n",
              "      <th>Lula</th>\n",
              "      <th>total votos</th>\n",
              "      <th>% Lula</th>\n",
              "      <th>% Bolsonaro</th>\n",
              "    </tr>\n",
              "    <tr>\n",
              "      <th>nm_municipio</th>\n",
              "      <th></th>\n",
              "      <th></th>\n",
              "      <th></th>\n",
              "      <th></th>\n",
              "      <th></th>\n",
              "    </tr>\n",
              "  </thead>\n",
              "  <tbody>\n",
              "    <tr>\n",
              "      <th>ABADIA DE GOIÁS</th>\n",
              "      <td>5394</td>\n",
              "      <td>3814</td>\n",
              "      <td>9208</td>\n",
              "      <td>41.42</td>\n",
              "      <td>58.58</td>\n",
              "    </tr>\n",
              "    <tr>\n",
              "      <th>ABADIA DOS DOURADOS</th>\n",
              "      <td>7554</td>\n",
              "      <td>6165</td>\n",
              "      <td>13719</td>\n",
              "      <td>44.94</td>\n",
              "      <td>55.06</td>\n",
              "    </tr>\n",
              "    <tr>\n",
              "      <th>ABADIÂNIA</th>\n",
              "      <td>13313</td>\n",
              "      <td>8939</td>\n",
              "      <td>22252</td>\n",
              "      <td>40.17</td>\n",
              "      <td>59.83</td>\n",
              "    </tr>\n",
              "    <tr>\n",
              "      <th>ABAETETUBA</th>\n",
              "      <td>38431</td>\n",
              "      <td>81252</td>\n",
              "      <td>119683</td>\n",
              "      <td>67.89</td>\n",
              "      <td>32.11</td>\n",
              "    </tr>\n",
              "    <tr>\n",
              "      <th>ABAETÉ</th>\n",
              "      <td>46127</td>\n",
              "      <td>87554</td>\n",
              "      <td>133681</td>\n",
              "      <td>65.49</td>\n",
              "      <td>34.51</td>\n",
              "    </tr>\n",
              "    <tr>\n",
              "      <th>...</th>\n",
              "      <td>...</td>\n",
              "      <td>...</td>\n",
              "      <td>...</td>\n",
              "      <td>...</td>\n",
              "      <td>...</td>\n",
              "    </tr>\n",
              "    <tr>\n",
              "      <th>ÁUREA</th>\n",
              "      <td>58194002</td>\n",
              "      <td>60319808</td>\n",
              "      <td>118513810</td>\n",
              "      <td>50.90</td>\n",
              "      <td>49.10</td>\n",
              "    </tr>\n",
              "    <tr>\n",
              "      <th>ÂNGULO</th>\n",
              "      <td>58195439</td>\n",
              "      <td>60320537</td>\n",
              "      <td>118515976</td>\n",
              "      <td>50.90</td>\n",
              "      <td>49.10</td>\n",
              "    </tr>\n",
              "    <tr>\n",
              "      <th>ÉRICO CARDOSO</th>\n",
              "      <td>58196614</td>\n",
              "      <td>60325452</td>\n",
              "      <td>118522066</td>\n",
              "      <td>50.90</td>\n",
              "      <td>49.10</td>\n",
              "    </tr>\n",
              "    <tr>\n",
              "      <th>ÓBIDOS</th>\n",
              "      <td>58205191</td>\n",
              "      <td>60345328</td>\n",
              "      <td>118550519</td>\n",
              "      <td>50.90</td>\n",
              "      <td>49.10</td>\n",
              "    </tr>\n",
              "    <tr>\n",
              "      <th>ÓLEO</th>\n",
              "      <td>58206354</td>\n",
              "      <td>60345999</td>\n",
              "      <td>118552353</td>\n",
              "      <td>50.90</td>\n",
              "      <td>49.10</td>\n",
              "    </tr>\n",
              "  </tbody>\n",
              "</table>\n",
              "<p>5466 rows × 5 columns</p>\n",
              "</div>\n",
              "      <button class=\"colab-df-convert\" onclick=\"convertToInteractive('df-dd422f48-2934-4452-b271-8dcee795f083')\"\n",
              "              title=\"Convert this dataframe to an interactive table.\"\n",
              "              style=\"display:none;\">\n",
              "        \n",
              "  <svg xmlns=\"http://www.w3.org/2000/svg\" height=\"24px\"viewBox=\"0 0 24 24\"\n",
              "       width=\"24px\">\n",
              "    <path d=\"M0 0h24v24H0V0z\" fill=\"none\"/>\n",
              "    <path d=\"M18.56 5.44l.94 2.06.94-2.06 2.06-.94-2.06-.94-.94-2.06-.94 2.06-2.06.94zm-11 1L8.5 8.5l.94-2.06 2.06-.94-2.06-.94L8.5 2.5l-.94 2.06-2.06.94zm10 10l.94 2.06.94-2.06 2.06-.94-2.06-.94-.94-2.06-.94 2.06-2.06.94z\"/><path d=\"M17.41 7.96l-1.37-1.37c-.4-.4-.92-.59-1.43-.59-.52 0-1.04.2-1.43.59L10.3 9.45l-7.72 7.72c-.78.78-.78 2.05 0 2.83L4 21.41c.39.39.9.59 1.41.59.51 0 1.02-.2 1.41-.59l7.78-7.78 2.81-2.81c.8-.78.8-2.07 0-2.86zM5.41 20L4 18.59l7.72-7.72 1.47 1.35L5.41 20z\"/>\n",
              "  </svg>\n",
              "      </button>\n",
              "      \n",
              "  <style>\n",
              "    .colab-df-container {\n",
              "      display:flex;\n",
              "      flex-wrap:wrap;\n",
              "      gap: 12px;\n",
              "    }\n",
              "\n",
              "    .colab-df-convert {\n",
              "      background-color: #E8F0FE;\n",
              "      border: none;\n",
              "      border-radius: 50%;\n",
              "      cursor: pointer;\n",
              "      display: none;\n",
              "      fill: #1967D2;\n",
              "      height: 32px;\n",
              "      padding: 0 0 0 0;\n",
              "      width: 32px;\n",
              "    }\n",
              "\n",
              "    .colab-df-convert:hover {\n",
              "      background-color: #E2EBFA;\n",
              "      box-shadow: 0px 1px 2px rgba(60, 64, 67, 0.3), 0px 1px 3px 1px rgba(60, 64, 67, 0.15);\n",
              "      fill: #174EA6;\n",
              "    }\n",
              "\n",
              "    [theme=dark] .colab-df-convert {\n",
              "      background-color: #3B4455;\n",
              "      fill: #D2E3FC;\n",
              "    }\n",
              "\n",
              "    [theme=dark] .colab-df-convert:hover {\n",
              "      background-color: #434B5C;\n",
              "      box-shadow: 0px 1px 3px 1px rgba(0, 0, 0, 0.15);\n",
              "      filter: drop-shadow(0px 1px 2px rgba(0, 0, 0, 0.3));\n",
              "      fill: #FFFFFF;\n",
              "    }\n",
              "  </style>\n",
              "\n",
              "      <script>\n",
              "        const buttonEl =\n",
              "          document.querySelector('#df-dd422f48-2934-4452-b271-8dcee795f083 button.colab-df-convert');\n",
              "        buttonEl.style.display =\n",
              "          google.colab.kernel.accessAllowed ? 'block' : 'none';\n",
              "\n",
              "        async function convertToInteractive(key) {\n",
              "          const element = document.querySelector('#df-dd422f48-2934-4452-b271-8dcee795f083');\n",
              "          const dataTable =\n",
              "            await google.colab.kernel.invokeFunction('convertToInteractive',\n",
              "                                                     [key], {});\n",
              "          if (!dataTable) return;\n",
              "\n",
              "          const docLinkHtml = 'Like what you see? Visit the ' +\n",
              "            '<a target=\"_blank\" href=https://colab.research.google.com/notebooks/data_table.ipynb>data table notebook</a>'\n",
              "            + ' to learn more about interactive tables.';\n",
              "          element.innerHTML = '';\n",
              "          dataTable['output_type'] = 'display_data';\n",
              "          await google.colab.output.renderOutput(dataTable, element);\n",
              "          const docLink = document.createElement('div');\n",
              "          docLink.innerHTML = docLinkHtml;\n",
              "          element.appendChild(docLink);\n",
              "        }\n",
              "      </script>\n",
              "    </div>\n",
              "  </div>\n",
              "  "
            ]
          },
          "metadata": {},
          "execution_count": 76
        }
      ]
    },
    {
      "cell_type": "code",
      "source": [
        "fig, ax = plt.subplots(dpi=100, figsize=(20,11))\n",
        "ax.plot(total_votos.index, total_votos[\"% Bolsonaro\"], label=\"bolso\")\n",
        "ax.plot(total_votos.index, total_votos[\"% Lula\"], label=\"lula\")\n",
        "\n",
        "ax.set_xticks([x for x in range(1, 1000, 100)])\n",
        "ax.set_xticklabels([x for x in range(1, 1001, 100)])\n",
        "ax.legend()"
      ],
      "metadata": {
        "colab": {
          "base_uri": "https://localhost:8080/",
          "height": 753
        },
        "id": "sW2f7_cp9eSG",
        "outputId": "7be875b6-edc3-448f-a20a-e332f328ec50"
      },
      "execution_count": null,
      "outputs": [
        {
          "output_type": "execute_result",
          "data": {
            "text/plain": [
              "<matplotlib.legend.Legend at 0x7f75c682cd00>"
            ]
          },
          "metadata": {},
          "execution_count": 77
        },
        {
          "output_type": "display_data",
          "data": {
            "text/plain": [
              "<Figure size 2000x1100 with 1 Axes>"
            ],
            "image/png": "[encoded data removed]"
          },
          "metadata": {
            "needs_background": "light"
          }
        }
      ]
    },
    {
      "cell_type": "code",
      "source": [
        "numero = 20\n",
        "print(f\"{numero}\")\n"
      ],
      "metadata": {
        "id": "5QLLfRbRDoRq",
        "colab": {
          "base_uri": "https://localhost:8080/"
        },
        "outputId": "f58474f5-443c-47d9-e339-7424cfdbe461"
      },
      "execution_count": null,
      "outputs": [
        {
          "output_type": "stream",
          "name": "stdout",
          "text": [
            "20\n"
          ]
        }
      ]
    },
    {
      "cell_type": "markdown",
      "source": [
        "# Pizza Grafico\n"
      ],
      "metadata": {
        "id": "4odlLQP5Rjd7"
      }
    },
    {
      "cell_type": "code",
      "source": [
        "lula = df[df[\"nr_candidato\"] == 13].sort_values(by=['dt_carga'])\n",
        "bolsonaro = df[df[\"nr_candidato\"] == 22].sort_values(by=['dt_carga'])\n",
        "\n",
        "lula_votos = (lula.groupby(\"nm_regiao\"))[\"qt_votos_nominais\"].sum()\n",
        "bolsonaro_votos = (bolsonaro.groupby(\"nm_regiao\"))[\"qt_votos_nominais\"].sum()"
      ],
      "metadata": {
        "id": "pkaDQ0rCRoI0"
      },
      "execution_count": null,
      "outputs": []
    },
    {
      "cell_type": "code",
      "source": [
        "lula_votos[\"Total\"] = lula_votos.sum()\n",
        "df_lulu = pd.DataFrame(lula_votos)\n",
        "df_lulu[\"%\"] = ((df_lulu[\"qt_votos_nominais\"].values / df_lulu.loc[\"Total\"].values) * 100).round(2)\n",
        "df_lulu = df_lulu.drop(\"Total\")\n",
        "df_lulu"
      ],
      "metadata": {
        "colab": {
          "base_uri": "https://localhost:8080/",
          "height": 269
        },
        "id": "vQGwPQdoRpmr",
        "outputId": "1046b6fa-3d7d-4725-b8f5-390ce850dd0f"
      },
      "execution_count": null,
      "outputs": [
        {
          "output_type": "execute_result",
          "data": {
            "text/plain": [
              "              qt_votos_nominais      %\n",
              "nm_regiao                             \n",
              "CENTRO-OESTE            3523743   5.84\n",
              "EXTERIOR                 152905   0.25\n",
              "NORDESTE               22534967  37.34\n",
              "NORTE                   4590184   7.61\n",
              "SUDESTE                22793826  37.77\n",
              "SUL                     6750374  11.19"
            ],
            "text/html": [
              "\n",
              "  <div id=\"df-17fbf1f4-7dc3-4d1a-a6b8-c092d18d6956\">\n",
              "    <div class=\"colab-df-container\">\n",
              "      <div>\n",
              "<style scoped>\n",
              "    .dataframe tbody tr th:only-of-type {\n",
              "        vertical-align: middle;\n",
              "    }\n",
              "\n",
              "    .dataframe tbody tr th {\n",
              "        vertical-align: top;\n",
              "    }\n",
              "\n",
              "    .dataframe thead th {\n",
              "        text-align: right;\n",
              "    }\n",
              "</style>\n",
              "<table border=\"1\" class=\"dataframe\">\n",
              "  <thead>\n",
              "    <tr style=\"text-align: right;\">\n",
              "      <th></th>\n",
              "      <th>qt_votos_nominais</th>\n",
              "      <th>%</th>\n",
              "    </tr>\n",
              "    <tr>\n",
              "      <th>nm_regiao</th>\n",
              "      <th></th>\n",
              "      <th></th>\n",
              "    </tr>\n",
              "  </thead>\n",
              "  <tbody>\n",
              "    <tr>\n",
              "      <th>CENTRO-OESTE</th>\n",
              "      <td>3523743</td>\n",
              "      <td>5.84</td>\n",
              "    </tr>\n",
              "    <tr>\n",
              "      <th>EXTERIOR</th>\n",
              "      <td>152905</td>\n",
              "      <td>0.25</td>\n",
              "    </tr>\n",
              "    <tr>\n",
              "      <th>NORDESTE</th>\n",
              "      <td>22534967</td>\n",
              "      <td>37.34</td>\n",
              "    </tr>\n",
              "    <tr>\n",
              "      <th>NORTE</th>\n",
              "      <td>4590184</td>\n",
              "      <td>7.61</td>\n",
              "    </tr>\n",
              "    <tr>\n",
              "      <th>SUDESTE</th>\n",
              "      <td>22793826</td>\n",
              "      <td>37.77</td>\n",
              "    </tr>\n",
              "    <tr>\n",
              "      <th>SUL</th>\n",
              "      <td>6750374</td>\n",
              "      <td>11.19</td>\n",
              "    </tr>\n",
              "  </tbody>\n",
              "</table>\n",
              "</div>\n",
              "      <button class=\"colab-df-convert\" onclick=\"convertToInteractive('df-17fbf1f4-7dc3-4d1a-a6b8-c092d18d6956')\"\n",
              "              title=\"Convert this dataframe to an interactive table.\"\n",
              "              style=\"display:none;\">\n",
              "        \n",
              "  <svg xmlns=\"http://www.w3.org/2000/svg\" height=\"24px\"viewBox=\"0 0 24 24\"\n",
              "       width=\"24px\">\n",
              "    <path d=\"M0 0h24v24H0V0z\" fill=\"none\"/>\n",
              "    <path d=\"M18.56 5.44l.94 2.06.94-2.06 2.06-.94-2.06-.94-.94-2.06-.94 2.06-2.06.94zm-11 1L8.5 8.5l.94-2.06 2.06-.94-2.06-.94L8.5 2.5l-.94 2.06-2.06.94zm10 10l.94 2.06.94-2.06 2.06-.94-2.06-.94-.94-2.06-.94 2.06-2.06.94z\"/><path d=\"M17.41 7.96l-1.37-1.37c-.4-.4-.92-.59-1.43-.59-.52 0-1.04.2-1.43.59L10.3 9.45l-7.72 7.72c-.78.78-.78 2.05 0 2.83L4 21.41c.39.39.9.59 1.41.59.51 0 1.02-.2 1.41-.59l7.78-7.78 2.81-2.81c.8-.78.8-2.07 0-2.86zM5.41 20L4 18.59l7.72-7.72 1.47 1.35L5.41 20z\"/>\n",
              "  </svg>\n",
              "      </button>\n",
              "      \n",
              "  <style>\n",
              "    .colab-df-container {\n",
              "      display:flex;\n",
              "      flex-wrap:wrap;\n",
              "      gap: 12px;\n",
              "    }\n",
              "\n",
              "    .colab-df-convert {\n",
              "      background-color: #E8F0FE;\n",
              "      border: none;\n",
              "      border-radius: 50%;\n",
              "      cursor: pointer;\n",
              "      display: none;\n",
              "      fill: #1967D2;\n",
              "      height: 32px;\n",
              "      padding: 0 0 0 0;\n",
              "      width: 32px;\n",
              "    }\n",
              "\n",
              "    .colab-df-convert:hover {\n",
              "      background-color: #E2EBFA;\n",
              "      box-shadow: 0px 1px 2px rgba(60, 64, 67, 0.3), 0px 1px 3px 1px rgba(60, 64, 67, 0.15);\n",
              "      fill: #174EA6;\n",
              "    }\n",
              "\n",
              "    [theme=dark] .colab-df-convert {\n",
              "      background-color: #3B4455;\n",
              "      fill: #D2E3FC;\n",
              "    }\n",
              "\n",
              "    [theme=dark] .colab-df-convert:hover {\n",
              "      background-color: #434B5C;\n",
              "      box-shadow: 0px 1px 3px 1px rgba(0, 0, 0, 0.15);\n",
              "      filter: drop-shadow(0px 1px 2px rgba(0, 0, 0, 0.3));\n",
              "      fill: #FFFFFF;\n",
              "    }\n",
              "  </style>\n",
              "\n",
              "      <script>\n",
              "        const buttonEl =\n",
              "          document.querySelector('#df-17fbf1f4-7dc3-4d1a-a6b8-c092d18d6956 button.colab-df-convert');\n",
              "        buttonEl.style.display =\n",
              "          google.colab.kernel.accessAllowed ? 'block' : 'none';\n",
              "\n",
              "        async function convertToInteractive(key) {\n",
              "          const element = document.querySelector('#df-17fbf1f4-7dc3-4d1a-a6b8-c092d18d6956');\n",
              "          const dataTable =\n",
              "            await google.colab.kernel.invokeFunction('convertToInteractive',\n",
              "                                                     [key], {});\n",
              "          if (!dataTable) return;\n",
              "\n",
              "          const docLinkHtml = 'Like what you see? Visit the ' +\n",
              "            '<a target=\"_blank\" href=https://colab.research.google.com/notebooks/data_table.ipynb>data table notebook</a>'\n",
              "            + ' to learn more about interactive tables.';\n",
              "          element.innerHTML = '';\n",
              "          dataTable['output_type'] = 'display_data';\n",
              "          await google.colab.output.renderOutput(dataTable, element);\n",
              "          const docLink = document.createElement('div');\n",
              "          docLink.innerHTML = docLinkHtml;\n",
              "          element.appendChild(docLink);\n",
              "        }\n",
              "      </script>\n",
              "    </div>\n",
              "  </div>\n",
              "  "
            ]
          },
          "metadata": {},
          "execution_count": 28
        }
      ]
    },
    {
      "cell_type": "code",
      "source": [
        "\n",
        "fig1, ax1 = plt.subplots(figsize=(8, 10))\n",
        "ax1.pie(df_lulu[\"%\"], labels=df_lulu.index, autopct='%1.1f%%', \n",
        "        startangle=90)\n",
        "ax1.axis('equal')\n",
        "ax1.legend()\n",
        "ax1.set_title(\"Lula Votos Por Região\")"
      ],
      "metadata": {
        "colab": {
          "base_uri": "https://localhost:8080/",
          "height": 609
        },
        "id": "xsZ5K2rFVgbB",
        "outputId": "4b977fbe-119e-4e30-94d9-0b6ce943c681"
      },
      "execution_count": null,
      "outputs": [
        {
          "output_type": "execute_result",
          "data": {
            "text/plain": [
              "Text(0.5, 1.0, 'Lula Votos Por Região')"
            ]
          },
          "metadata": {},
          "execution_count": 29
        },
        {
          "output_type": "display_data",
          "data": {
            "text/plain": [
              "<Figure size 576x720 with 1 Axes>"
            ],
            "image/png": "[encoded data removed]"
          },
          "metadata": {}
        }
      ]
    },
    {
      "cell_type": "code",
      "source": [
        "bolsonaro_votos[\"Total\"] = bolsonaro_votos.sum()\n",
        "df_bolsonaro = pd.DataFrame(bolsonaro_votos)\n",
        "df_bolsonaro[\"%\"] = ((df_bolsonaro[\"qt_votos_nominais\"].values / df_bolsonaro.loc[\"Total\"].values) * 100).round(2)\n",
        "df_bolsonaro = df_bolsonaro.drop(\"Total\")\n",
        "df_bolsonaro"
      ],
      "metadata": {
        "colab": {
          "base_uri": "https://localhost:8080/",
          "height": 269
        },
        "id": "H_bd0RXWRrqX",
        "outputId": "3555f92c-8ed8-45c5-dd2c-a584861d293a"
      },
      "execution_count": null,
      "outputs": [
        {
          "output_type": "execute_result",
          "data": {
            "text/plain": [
              "              qt_votos_nominais      %\n",
              "nm_regiao                             \n",
              "CENTRO-OESTE            5331708   9.16\n",
              "EXTERIOR                 145264   0.25\n",
              "NORDESTE                9962947  17.12\n",
              "NORTE                   4782341   8.22\n",
              "SUDESTE                27043936  46.46\n",
              "SUL                    10940158  18.80"
            ],
            "text/html": [
              "\n",
              "  <div id=\"df-ee64c71b-26ed-4ab9-a467-a4c5046a2f6b\">\n",
              "    <div class=\"colab-df-container\">\n",
              "      <div>\n",
              "<style scoped>\n",
              "    .dataframe tbody tr th:only-of-type {\n",
              "        vertical-align: middle;\n",
              "    }\n",
              "\n",
              "    .dataframe tbody tr th {\n",
              "        vertical-align: top;\n",
              "    }\n",
              "\n",
              "    .dataframe thead th {\n",
              "        text-align: right;\n",
              "    }\n",
              "</style>\n",
              "<table border=\"1\" class=\"dataframe\">\n",
              "  <thead>\n",
              "    <tr style=\"text-align: right;\">\n",
              "      <th></th>\n",
              "      <th>qt_votos_nominais</th>\n",
              "      <th>%</th>\n",
              "    </tr>\n",
              "    <tr>\n",
              "      <th>nm_regiao</th>\n",
              "      <th></th>\n",
              "      <th></th>\n",
              "    </tr>\n",
              "  </thead>\n",
              "  <tbody>\n",
              "    <tr>\n",
              "      <th>CENTRO-OESTE</th>\n",
              "      <td>5331708</td>\n",
              "      <td>9.16</td>\n",
              "    </tr>\n",
              "    <tr>\n",
              "      <th>EXTERIOR</th>\n",
              "      <td>145264</td>\n",
              "      <td>0.25</td>\n",
              "    </tr>\n",
              "    <tr>\n",
              "      <th>NORDESTE</th>\n",
              "      <td>9962947</td>\n",
              "      <td>17.12</td>\n",
              "    </tr>\n",
              "    <tr>\n",
              "      <th>NORTE</th>\n",
              "      <td>4782341</td>\n",
              "      <td>8.22</td>\n",
              "    </tr>\n",
              "    <tr>\n",
              "      <th>SUDESTE</th>\n",
              "      <td>27043936</td>\n",
              "      <td>46.46</td>\n",
              "    </tr>\n",
              "    <tr>\n",
              "      <th>SUL</th>\n",
              "      <td>10940158</td>\n",
              "      <td>18.80</td>\n",
              "    </tr>\n",
              "  </tbody>\n",
              "</table>\n",
              "</div>\n",
              "      <button class=\"colab-df-convert\" onclick=\"convertToInteractive('df-ee64c71b-26ed-4ab9-a467-a4c5046a2f6b')\"\n",
              "              title=\"Convert this dataframe to an interactive table.\"\n",
              "              style=\"display:none;\">\n",
              "        \n",
              "  <svg xmlns=\"http://www.w3.org/2000/svg\" height=\"24px\"viewBox=\"0 0 24 24\"\n",
              "       width=\"24px\">\n",
              "    <path d=\"M0 0h24v24H0V0z\" fill=\"none\"/>\n",
              "    <path d=\"M18.56 5.44l.94 2.06.94-2.06 2.06-.94-2.06-.94-.94-2.06-.94 2.06-2.06.94zm-11 1L8.5 8.5l.94-2.06 2.06-.94-2.06-.94L8.5 2.5l-.94 2.06-2.06.94zm10 10l.94 2.06.94-2.06 2.06-.94-2.06-.94-.94-2.06-.94 2.06-2.06.94z\"/><path d=\"M17.41 7.96l-1.37-1.37c-.4-.4-.92-.59-1.43-.59-.52 0-1.04.2-1.43.59L10.3 9.45l-7.72 7.72c-.78.78-.78 2.05 0 2.83L4 21.41c.39.39.9.59 1.41.59.51 0 1.02-.2 1.41-.59l7.78-7.78 2.81-2.81c.8-.78.8-2.07 0-2.86zM5.41 20L4 18.59l7.72-7.72 1.47 1.35L5.41 20z\"/>\n",
              "  </svg>\n",
              "      </button>\n",
              "      \n",
              "  <style>\n",
              "    .colab-df-container {\n",
              "      display:flex;\n",
              "      flex-wrap:wrap;\n",
              "      gap: 12px;\n",
              "    }\n",
              "\n",
              "    .colab-df-convert {\n",
              "      background-color: #E8F0FE;\n",
              "      border: none;\n",
              "      border-radius: 50%;\n",
              "      cursor: pointer;\n",
              "      display: none;\n",
              "      fill: #1967D2;\n",
              "      height: 32px;\n",
              "      padding: 0 0 0 0;\n",
              "      width: 32px;\n",
              "    }\n",
              "\n",
              "    .colab-df-convert:hover {\n",
              "      background-color: #E2EBFA;\n",
              "      box-shadow: 0px 1px 2px rgba(60, 64, 67, 0.3), 0px 1px 3px 1px rgba(60, 64, 67, 0.15);\n",
              "      fill: #174EA6;\n",
              "    }\n",
              "\n",
              "    [theme=dark] .colab-df-convert {\n",
              "      background-color: #3B4455;\n",
              "      fill: #D2E3FC;\n",
              "    }\n",
              "\n",
              "    [theme=dark] .colab-df-convert:hover {\n",
              "      background-color: #434B5C;\n",
              "      box-shadow: 0px 1px 3px 1px rgba(0, 0, 0, 0.15);\n",
              "      filter: drop-shadow(0px 1px 2px rgba(0, 0, 0, 0.3));\n",
              "      fill: #FFFFFF;\n",
              "    }\n",
              "  </style>\n",
              "\n",
              "      <script>\n",
              "        const buttonEl =\n",
              "          document.querySelector('#df-ee64c71b-26ed-4ab9-a467-a4c5046a2f6b button.colab-df-convert');\n",
              "        buttonEl.style.display =\n",
              "          google.colab.kernel.accessAllowed ? 'block' : 'none';\n",
              "\n",
              "        async function convertToInteractive(key) {\n",
              "          const element = document.querySelector('#df-ee64c71b-26ed-4ab9-a467-a4c5046a2f6b');\n",
              "          const dataTable =\n",
              "            await google.colab.kernel.invokeFunction('convertToInteractive',\n",
              "                                                     [key], {});\n",
              "          if (!dataTable) return;\n",
              "\n",
              "          const docLinkHtml = 'Like what you see? Visit the ' +\n",
              "            '<a target=\"_blank\" href=https://colab.research.google.com/notebooks/data_table.ipynb>data table notebook</a>'\n",
              "            + ' to learn more about interactive tables.';\n",
              "          element.innerHTML = '';\n",
              "          dataTable['output_type'] = 'display_data';\n",
              "          await google.colab.output.renderOutput(dataTable, element);\n",
              "          const docLink = document.createElement('div');\n",
              "          docLink.innerHTML = docLinkHtml;\n",
              "          element.appendChild(docLink);\n",
              "        }\n",
              "      </script>\n",
              "    </div>\n",
              "  </div>\n",
              "  "
            ]
          },
          "metadata": {},
          "execution_count": 30
        }
      ]
    },
    {
      "cell_type": "code",
      "source": [
        "fig1, ax1 = plt.subplots(figsize=(8, 10))\n",
        "\n",
        "ax1.pie(df_bolsonaro[\"%\"], labels=df_bolsonaro.index, autopct='%1.1f%%', startangle=90, wedgeprops={'alpha':0.5})\n",
        "ax1.set_facecolor('xkcd:salmon')\n",
        "ax1.axis('equal')\n",
        "ax1.legend()\n",
        "ax1.set_title(\"Bolsonaro Votos Por Região\")"
      ],
      "metadata": {
        "colab": {
          "base_uri": "https://localhost:8080/",
          "height": 609
        },
        "id": "Ut3o6ALlYeDo",
        "outputId": "8e406f5d-91eb-4f2c-efa1-fa3665b859fc"
      },
      "execution_count": null,
      "outputs": [
        {
          "output_type": "execute_result",
          "data": {
            "text/plain": [
              "Text(0.5, 1.0, 'Bolsonaro Votos Por Região')"
            ]
          },
          "metadata": {},
          "execution_count": 31
        },
        {
          "output_type": "display_data",
          "data": {
            "text/plain": [
              "<Figure size 576x720 with 1 Axes>"
            ],
            "image/png": "[encoded data removed]"
          },
          "metadata": {}
        }
      ]
    },
    {
      "cell_type": "code",
      "source": [
        "fig, ax1 = plt.subplots(figsize=(20, 12), ncols=2)\n",
        "\n",
        "ax1[0].pie(df_lulu[\"%\"], labels=df_lulu.index, autopct='%1.1f%%', \n",
        "        startangle=90)\n",
        "ax1[0].axis('equal') \n",
        "ax1[0].legend(loc=3)\n",
        "\n",
        "ax1[0].set_title(\"Lula Votos Por Região\")\n",
        "\n",
        "\n",
        "ax1[1].pie(df_bolsonaro[\"%\"], labels=df_bolsonaro.index, autopct='%1.1f%%', startangle=90)\n",
        "ax1[1].axis('equal')  \n",
        "ax1[1].legend(loc=3)\n",
        "ax1[1].set_title(\"Bolsonaro Votos Por Região\")\n",
        "\n"
      ],
      "metadata": {
        "colab": {
          "base_uri": "https://localhost:8080/",
          "height": 717
        },
        "id": "jGAsyLOrhBDu",
        "outputId": "631b4764-7d23-40f9-ed43-acef43d53a67"
      },
      "execution_count": null,
      "outputs": [
        {
          "output_type": "execute_result",
          "data": {
            "text/plain": [
              "Text(0.5, 1.0, 'Bolsonaro Votos Por Região')"
            ]
          },
          "metadata": {},
          "execution_count": 32
        },
        {
          "output_type": "display_data",
          "data": {
            "text/plain": [
              "<Figure size 1440x864 with 2 Axes>"
            ],
            "image/png": "[encoded data removed]"
          },
          "metadata": {}
        }
      ]
    }
  ]
}